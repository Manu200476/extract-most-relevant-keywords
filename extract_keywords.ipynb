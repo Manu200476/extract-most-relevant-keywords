{
  "nbformat": 4,
  "nbformat_minor": 0,
  "metadata": {
    "colab": {
      "name": "extract-keywords.ipynb",
      "provenance": [],
      "collapsed_sections": []
    },
    "kernelspec": {
      "name": "python3",
      "display_name": "Python 3"
    },
    "language_info": {
      "name": "python"
    }
  },
  "cells": [
    {
      "cell_type": "code",
      "execution_count": null,
      "metadata": {
        "id": "FIgJkxrlrtSX"
      },
      "outputs": [],
      "source": [
        "pip install newspaper3k pandas nltk textblob "
      ]
    },
    {
      "cell_type": "code",
      "source": [
        "import re\n",
        "import nltk\n",
        "import pandas as pd\n",
        "from nltk import FreqDist\n",
        "from newspaper import Article\n",
        "from textblob import TextBlob\n",
        "from google.colab import files\n",
        "from nltk.corpus import stopwords\n",
        "from nltk.tokenize import word_tokenize\n",
        "import requests\n",
        "from newspaper import fulltext\n",
        "\n",
        "nltk.download('punkt')\n",
        "nltk.download('stopwords')\n",
        "nltk.download('averaged_perceptron_tagger')"
      ],
      "metadata": {
        "id": "FQhx61FTr_Xh"
      },
      "execution_count": null,
      "outputs": []
    },
    {
      "cell_type": "code",
      "source": [
        "uploaded = files.upload()\n",
        "uploaded_keys = list(uploaded.keys())"
      ],
      "metadata": {
        "id": "KzL5VWmOsboF"
      },
      "execution_count": null,
      "outputs": []
    },
    {
      "cell_type": "code",
      "source": [
        "with open(f'./{uploaded_keys[0]}') as txt:\n",
        "  url_list = txt.read().splitlines()\n",
        "\n",
        "url_list= [\n",
        "  'https://www.viajeroscallejeros.com/maravillas-del-mundo/',\n",
        "  'https://www.viajeroscallejeros.com/lugares-que-visitar-barcelona/'\n",
        "]"
      ],
      "metadata": {
        "id": "DTe9k4k1scje"
      },
      "execution_count": 17,
      "outputs": []
    },
    {
      "cell_type": "code",
      "source": [
        "def clean_text(text):\n",
        "  remove_characters = re.sub('[^\\w\\s]', '', text.lower())\n",
        "  tokenized_text = word_tokenize(remove_characters)\n",
        "  clean_text = ' '.join([word for word in tokenized_text if word not in stopwords.words('spanish')])\n",
        "  return clean_text\n",
        "\n",
        "def most_relevant_kws(text):\n",
        "  only_nouns = [w for (w, pos) in TextBlob(text).pos_tags if pos[0] == 'N']\n",
        "  most_repeated_kws = list(FreqDist(only_nouns))\n",
        "  return most_repeated_kws"
      ],
      "metadata": {
        "id": "GTknukfExZLK"
      },
      "execution_count": 5,
      "outputs": []
    },
    {
      "cell_type": "code",
      "source": [
        "urls_text = []\n",
        "\n",
        "for url in url_list:\n",
        "  html = requests.get(url).text\n",
        "  text = fulltext(html)\n",
        "  text_clean = clean_text(text)\n",
        "  urls_text.append({\n",
        "      \"Url\": url,\n",
        "      \"Text\": text_clean\n",
        "  })"
      ],
      "metadata": {
        "id": "FJujZOFbthbY"
      },
      "execution_count": null,
      "outputs": []
    },
    {
      "cell_type": "code",
      "source": [
        "urls_df = pd.DataFrame.from_dict(urls_text)"
      ],
      "metadata": {
        "id": "35b5iMOp1o5b"
      },
      "execution_count": 12,
      "outputs": []
    },
    {
      "cell_type": "code",
      "source": [
        "frecuency = []\n",
        "\n",
        "for text in urls_df['Text']:\n",
        "  words_frecuency = most_relevant_kws(text)\n",
        "  frecuency.append(','.join(words_frecuency[0:6]))\n",
        "\n",
        "urls_df['Frecuency'] = frecuency"
      ],
      "metadata": {
        "id": "GzSVslHdwAx_"
      },
      "execution_count": null,
      "outputs": []
    },
    {
      "cell_type": "code",
      "source": [
        "urls_df.drop('Text', axis=1, inplace=True)\n",
        "urls_df.to_csv('frecuency-urls.csv')\n",
        "files.download('frecuency-urls.csv')"
      ],
      "metadata": {
        "id": "TmS24CJd36Wb"
      },
      "execution_count": null,
      "outputs": []
    }
  ]
}